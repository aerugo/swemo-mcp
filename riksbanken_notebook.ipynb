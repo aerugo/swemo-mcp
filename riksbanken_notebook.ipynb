{
 "cells": [
  {
   "cell_type": "code",
   "execution_count": 1,
   "metadata": {},
   "outputs": [],
   "source": [
    "import src.riksbank_mcp.tools.monetary_policy_tools as mpt\n",
    "import time"
   ]
  },
  {
   "cell_type": "code",
   "execution_count": null,
   "metadata": {},
   "outputs": [
    {
     "name": "stderr",
     "output_type": "stream",
     "text": [
      "HTTP Request: GET https://api.riksbank.se/monetary_policy_data/v1/forecasts?series=SEMCPIFFEXYNA&policy_round_name=2022:2 \"HTTP/1.1 200 OK\"\n"
     ]
    },
    {
     "data": {
      "text/plain": [
       "MonetaryPolicyDataResponse(external_id='SEMCPIFFEXYNA', vintages=[ForecastVintage(metadata=ForecastMetadata(revision_dtm=None, forecast_cutoff_date=datetime.date(2022, 3, 31), policy_round='2022:2', policy_round_code=None, policy_round_end_dtm=datetime.datetime(2022, 4, 28, 0, 0)), observations=[ForecastObservation(dt='1988-01-31', value=4.66, is_forecast=False), ForecastObservation(dt='1988-02-29', value=5.21, is_forecast=False), ForecastObservation(dt='1988-03-31', value=5.46, is_forecast=False), ForecastObservation(dt='1988-04-30', value=6.08, is_forecast=False), ForecastObservation(dt='1988-05-31', value=6.06, is_forecast=False), ForecastObservation(dt='1988-06-30', value=6.28, is_forecast=False), ForecastObservation(dt='1988-07-31', value=5.79, is_forecast=False), ForecastObservation(dt='1988-08-31', value=5.48, is_forecast=False), ForecastObservation(dt='1988-09-30', value=5.42, is_forecast=False), ForecastObservation(dt='1988-10-31', value=5.67, is_forecast=False), ForecastObservation(dt='1988-11-30', value=5.49, is_forecast=False), ForecastObservation(dt='1988-12-31', value=5.62, is_forecast=False), ForecastObservation(dt='1989-01-31', value=6.33, is_forecast=False), ForecastObservation(dt='1989-02-28', value=6.09, is_forecast=False), ForecastObservation(dt='1989-03-31', value=6.06, is_forecast=False), ForecastObservation(dt='1989-04-30', value=5.72, is_forecast=False), ForecastObservation(dt='1989-05-31', value=5.99, is_forecast=False), ForecastObservation(dt='1989-06-30', value=6.31, is_forecast=False), ForecastObservation(dt='1989-07-31', value=5.77, is_forecast=False), ForecastObservation(dt='1989-08-31', value=6.11, is_forecast=False), ForecastObservation(dt='1989-09-30', value=6.08, is_forecast=False), ForecastObservation(dt='1989-10-31', value=6.17, is_forecast=False), ForecastObservation(dt='1989-11-30', value=6.16, is_forecast=False), ForecastObservation(dt='1989-12-31', value=6.28, is_forecast=False), ForecastObservation(dt='1990-01-31', value=7.51, is_forecast=False), ForecastObservation(dt='1990-02-28', value=7.25, is_forecast=False), ForecastObservation(dt='1990-03-31', value=7.9, is_forecast=False), ForecastObservation(dt='1990-04-30', value=7.71, is_forecast=False), ForecastObservation(dt='1990-05-31', value=8.15, is_forecast=False), ForecastObservation(dt='1990-06-30', value=7.72, is_forecast=False), ForecastObservation(dt='1990-07-31', value=8.89, is_forecast=False), ForecastObservation(dt='1990-08-31', value=8.71, is_forecast=False), ForecastObservation(dt='1990-09-30', value=8.66, is_forecast=False), ForecastObservation(dt='1990-10-31', value=8.42, is_forecast=False), ForecastObservation(dt='1990-11-30', value=8.57, is_forecast=False), ForecastObservation(dt='1990-12-31', value=8.41, is_forecast=False), ForecastObservation(dt='1991-01-31', value=8.41, is_forecast=False), ForecastObservation(dt='1991-02-28', value=11.55, is_forecast=False), ForecastObservation(dt='1991-03-31', value=10.99, is_forecast=False), ForecastObservation(dt='1991-04-30', value=11.23, is_forecast=False), ForecastObservation(dt='1991-05-31', value=10.46, is_forecast=False), ForecastObservation(dt='1991-06-30', value=10.41, is_forecast=False), ForecastObservation(dt='1991-07-31', value=9.38, is_forecast=False), ForecastObservation(dt='1991-08-31', value=8.8, is_forecast=False), ForecastObservation(dt='1991-09-30', value=9.23, is_forecast=False), ForecastObservation(dt='1991-10-31', value=8.89, is_forecast=False), ForecastObservation(dt='1991-11-30', value=9.01, is_forecast=False), ForecastObservation(dt='1991-12-31', value=8.52, is_forecast=False), ForecastObservation(dt='1992-01-31', value=5.89, is_forecast=False), ForecastObservation(dt='1992-02-29', value=2.72, is_forecast=False), ForecastObservation(dt='1992-03-31', value=2.68, is_forecast=False), ForecastObservation(dt='1992-04-30', value=2.27, is_forecast=False), ForecastObservation(dt='1992-05-31', value=2.28, is_forecast=False), ForecastObservation(dt='1992-06-30', value=1.9, is_forecast=False), ForecastObservation(dt='1992-07-31', value=1.74, is_forecast=False), ForecastObservation(dt='1992-08-31', value=1.96, is_forecast=False), ForecastObservation(dt='1992-09-30', value=1.79, is_forecast=False), ForecastObservation(dt='1992-10-31', value=1.61, is_forecast=False), ForecastObservation(dt='1992-11-30', value=0.92, is_forecast=False), ForecastObservation(dt='1992-12-31', value=1.72, is_forecast=False), ForecastObservation(dt='1993-01-31', value=3.9, is_forecast=False), ForecastObservation(dt='1993-02-28', value=4.13, is_forecast=False), ForecastObservation(dt='1993-03-31', value=4.13, is_forecast=False), ForecastObservation(dt='1993-04-30', value=4.26, is_forecast=False), ForecastObservation(dt='1993-05-31', value=4.11, is_forecast=False), ForecastObservation(dt='1993-06-30', value=4.29, is_forecast=False), ForecastObservation(dt='1993-07-31', value=4.15, is_forecast=False), ForecastObservation(dt='1993-08-31', value=4.31, is_forecast=False), ForecastObservation(dt='1993-09-30', value=4.41, is_forecast=False), ForecastObservation(dt='1993-10-31', value=4.61, is_forecast=False), ForecastObservation(dt='1993-11-30', value=4.89, is_forecast=False), ForecastObservation(dt='1993-12-31', value=4.08, is_forecast=False), ForecastObservation(dt='1994-01-31', value=2.34, is_forecast=False), ForecastObservation(dt='1994-02-28', value=2.31, is_forecast=False), ForecastObservation(dt='1994-03-31', value=2.23, is_forecast=False), ForecastObservation(dt='1994-04-30', value=2.29, is_forecast=False), ForecastObservation(dt='1994-05-31', value=2.62, is_forecast=False), ForecastObservation(dt='1994-06-30', value=2.76, is_forecast=False), ForecastObservation(dt='1994-07-31', value=3.03, is_forecast=False), ForecastObservation(dt='1994-08-31', value=2.81, is_forecast=False), ForecastObservation(dt='1994-09-30', value=2.82, is_forecast=False), ForecastObservation(dt='1994-10-31', value=2.57, is_forecast=False), ForecastObservation(dt='1994-11-30', value=2.47, is_forecast=False), ForecastObservation(dt='1994-12-31', value=2.59, is_forecast=False), ForecastObservation(dt='1995-01-31', value=2.75, is_forecast=False), ForecastObservation(dt='1995-02-28', value=2.83, is_forecast=False), ForecastObservation(dt='1995-03-31', value=2.81, is_forecast=False), ForecastObservation(dt='1995-04-30', value=2.92, is_forecast=False), ForecastObservation(dt='1995-05-31', value=2.96, is_forecast=False), ForecastObservation(dt='1995-06-30', value=2.88, is_forecast=False), ForecastObservation(dt='1995-07-31', value=2.79, is_forecast=False), ForecastObservation(dt='1995-08-31', value=2.68, is_forecast=False), ForecastObservation(dt='1995-09-30', value=2.39, is_forecast=False), ForecastObservation(dt='1995-10-31', value=2.58, is_forecast=False), ForecastObservation(dt='1995-11-30', value=2.65, is_forecast=False), ForecastObservation(dt='1995-12-31', value=2.6, is_forecast=False), ForecastObservation(dt='1996-01-31', value=1.75, is_forecast=False), ForecastObservation(dt='1996-02-29', value=1.47, is_forecast=False), ForecastObservation(dt='1996-03-31', value=1.56, is_forecast=False), ForecastObservation(dt='1996-04-30', value=1.31, is_forecast=False), ForecastObservation(dt='1996-05-31', value=1.06, is_forecast=False), ForecastObservation(dt='1996-06-30', value=1.04, is_forecast=False), ForecastObservation(dt='1996-07-31', value=0.88, is_forecast=False), ForecastObservation(dt='1996-08-31', value=0.66, is_forecast=False), ForecastObservation(dt='1996-09-30', value=0.25, is_forecast=False), ForecastObservation(dt='1996-10-31', value=0.03, is_forecast=False), ForecastObservation(dt='1996-11-30', value=-0.05, is_forecast=False), ForecastObservation(dt='1996-12-31', value=0.12, is_forecast=False), ForecastObservation(dt='1997-01-31', value=0.69, is_forecast=False), ForecastObservation(dt='1997-02-28', value=0.53, is_forecast=False), ForecastObservation(dt='1997-03-31', value=0.53, is_forecast=False), ForecastObservation(dt='1997-04-30', value=0.93, is_forecast=False), ForecastObservation(dt='1997-05-31', value=1.03, is_forecast=False), ForecastObservation(dt='1997-06-30', value=1.36, is_forecast=False), ForecastObservation(dt='1997-07-31', value=1.23, is_forecast=False), ForecastObservation(dt='1997-08-31', value=1.57, is_forecast=False), ForecastObservation(dt='1997-09-30', value=2.34, is_forecast=False), ForecastObservation(dt='1997-10-31', value=2.43, is_forecast=False), ForecastObservation(dt='1997-11-30', value=2.47, is_forecast=False), ForecastObservation(dt='1997-12-31', value=2.52, is_forecast=False), ForecastObservation(dt='1998-01-31', value=1.77, is_forecast=False), ForecastObservation(dt='1998-02-28', value=1.73, is_forecast=False), ForecastObservation(dt='1998-03-31', value=1.54, is_forecast=False), ForecastObservation(dt='1998-04-30', value=1.26, is_forecast=False), ForecastObservation(dt='1998-05-31', value=1.45, is_forecast=False), ForecastObservation(dt='1998-06-30', value=1.1, is_forecast=False), ForecastObservation(dt='1998-07-31', value=1.27, is_forecast=False), ForecastObservation(dt='1998-08-31', value=0.89, is_forecast=False), ForecastObservation(dt='1998-09-30', value=0.28, is_forecast=False), ForecastObservation(dt='1998-10-31', value=0.31, is_forecast=False), ForecastObservation(dt='1998-11-30', value=0.27, is_forecast=False), ForecastObservation(dt='1998-12-31', value=0.33, is_forecast=False), ForecastObservation(dt='1999-01-31', value=1.15, is_forecast=False), ForecastObservation(dt='1999-02-28', value=1.26, is_forecast=False), ForecastObservation(dt='1999-03-31', value=1.38, is_forecast=False), ForecastObservation(dt='1999-04-30', value=1.37, is_forecast=False), ForecastObservation(dt='1999-05-31', value=1.27, is_forecast=False), ForecastObservation(dt='1999-06-30', value=1.61, is_forecast=False), ForecastObservation(dt='1999-07-31', value=1.27, is_forecast=False), ForecastObservation(dt='1999-08-31', value=1.58, is_forecast=False), ForecastObservation(dt='1999-09-30', value=1.82, is_forecast=False), ForecastObservation(dt='1999-10-31', value=1.75, is_forecast=False), ForecastObservation(dt='1999-11-30', value=1.68, is_forecast=False), ForecastObservation(dt='1999-12-31', value=1.68, is_forecast=False), ForecastObservation(dt='2000-01-31', value=0.53, is_forecast=False), ForecastObservation(dt='2000-02-29', value=0.61, is_forecast=False), ForecastObservation(dt='2000-03-31', value=0.52, is_forecast=False), ForecastObservation(dt='2000-04-30', value=0.37, is_forecast=False), ForecastObservation(dt='2000-05-31', value=0.48, is_forecast=False), ForecastObservation(dt='2000-06-30', value=0.16, is_forecast=False), ForecastObservation(dt='2000-07-31', value=0.22, is_forecast=False), ForecastObservation(dt='2000-08-31', value=0.5, is_forecast=False), ForecastObservation(dt='2000-09-30', value=0.27, is_forecast=False), ForecastObservation(dt='2000-10-31', value=0.34, is_forecast=False), ForecastObservation(dt='2000-11-30', value=0.62, is_forecast=False), ForecastObservation(dt='2000-12-31', value=0.7, is_forecast=False), ForecastObservation(dt='2001-01-31', value=0.99, is_forecast=False), ForecastObservation(dt='2001-02-28', value=1.04, is_forecast=False), ForecastObservation(dt='2001-03-31', value=1.54, is_forecast=False), ForecastObservation(dt='2001-04-30', value=1.95, is_forecast=False), ForecastObservation(dt='2001-05-31', value=2.07, is_forecast=False), ForecastObservation(dt='2001-06-30', value=2.24, is_forecast=False), ForecastObservation(dt='2001-07-31', value=2.24, is_forecast=False), ForecastObservation(dt='2001-08-31', value=2.29, is_forecast=False), ForecastObservation(dt='2001-09-30', value=2.49, is_forecast=False), ForecastObservation(dt='2001-10-31', value=2.55, is_forecast=False), ForecastObservation(dt='2001-11-30', value=2.59, is_forecast=False), ForecastObservation(dt='2001-12-31', value=2.65, is_forecast=False), ForecastObservation(dt='2002-01-31', value=2.87, is_forecast=False), ForecastObservation(dt='2002-02-28', value=2.88, is_forecast=False), ForecastObservation(dt='2002-03-31', value=2.77, is_forecast=False), ForecastObservation(dt='2002-04-30', value=2.36, is_forecast=False), ForecastObservation(dt='2002-05-31', value=2.17, is_forecast=False), ForecastObservation(dt='2002-06-30', value=2.14, is_forecast=False), ForecastObservation(dt='2002-07-31', value=2.16, is_forecast=False), ForecastObservation(dt='2002-08-31', value=2.0, is_forecast=False), ForecastObservation(dt='2002-09-30', value=2.0, is_forecast=False), ForecastObservation(dt='2002-10-31', value=2.04, is_forecast=False), ForecastObservation(dt='2002-11-30', value=1.81, is_forecast=False), ForecastObservation(dt='2002-12-31', value=1.76, is_forecast=False), ForecastObservation(dt='2003-01-31', value=1.76, is_forecast=False), ForecastObservation(dt='2003-02-28', value=1.92, is_forecast=False), ForecastObservation(dt='2003-03-31', value=1.81, is_forecast=False), ForecastObservation(dt='2003-04-30', value=1.82, is_forecast=False), ForecastObservation(dt='2003-05-31', value=1.52, is_forecast=False), ForecastObservation(dt='2003-06-30', value=1.46, is_forecast=False), ForecastObservation(dt='2003-07-31', value=1.64, is_forecast=False), ForecastObservation(dt='2003-08-31', value=1.52, is_forecast=False), ForecastObservation(dt='2003-09-30', value=1.74, is_forecast=False), ForecastObservation(dt='2003-10-31', value=1.39, is_forecast=False), ForecastObservation(dt='2003-11-30', value=1.27, is_forecast=False), ForecastObservation(dt='2003-12-31', value=1.21, is_forecast=False), ForecastObservation(dt='2004-01-31', value=1.15, is_forecast=False), ForecastObservation(dt='2004-02-29', value=0.75, is_forecast=False), ForecastObservation(dt='2004-03-31', value=0.83, is_forecast=False), ForecastObservation(dt='2004-04-30', value=0.94, is_forecast=False), ForecastObservation(dt='2004-05-31', value=1.05, is_forecast=False), ForecastObservation(dt='2004-06-30', value=0.99, is_forecast=False), ForecastObservation(dt='2004-07-31', value=0.85, is_forecast=False), ForecastObservation(dt='2004-08-31', value=0.84, is_forecast=False), ForecastObservation(dt='2004-09-30', value=0.75, is_forecast=False), ForecastObservation(dt='2004-10-31', value=0.89, is_forecast=False), ForecastObservation(dt='2004-11-30', value=0.79, is_forecast=False), ForecastObservation(dt='2004-12-31', value=0.84, is_forecast=False), ForecastObservation(dt='2005-01-31', value=0.71, is_forecast=False), ForecastObservation(dt='2005-02-28', value=1.16, is_forecast=False), ForecastObservation(dt='2005-03-31', value=0.59, is_forecast=False), ForecastObservation(dt='2005-04-30', value=0.35, is_forecast=False), ForecastObservation(dt='2005-05-31', value=0.44, is_forecast=False), ForecastObservation(dt='2005-06-30', value=0.46, is_forecast=False), ForecastObservation(dt='2005-07-31', value=0.43, is_forecast=False), ForecastObservation(dt='2005-08-31', value=0.6, is_forecast=False), ForecastObservation(dt='2005-09-30', value=0.53, is_forecast=False), ForecastObservation(dt='2005-10-31', value=0.63, is_forecast=False), ForecastObservation(dt='2005-11-30', value=0.91, is_forecast=False), ForecastObservation(dt='2005-12-31', value=0.77, is_forecast=False), ForecastObservation(dt='2006-01-31', value=0.45, is_forecast=False), ForecastObservation(dt='2006-02-28', value=0.46, is_forecast=False), ForecastObservation(dt='2006-03-31', value=0.76, is_forecast=False), ForecastObservation(dt='2006-04-30', value=0.93, is_forecast=False), ForecastObservation(dt='2006-05-31', value=0.93, is_forecast=False), ForecastObservation(dt='2006-06-30', value=0.96, is_forecast=False), ForecastObservation(dt='2006-07-31', value=1.04, is_forecast=False), ForecastObservation(dt='2006-08-31', value=0.88, is_forecast=False), ForecastObservation(dt='2006-09-30', value=0.97, is_forecast=False), ForecastObservation(dt='2006-10-31', value=0.73, is_forecast=False), ForecastObservation(dt='2006-11-30', value=0.71, is_forecast=False), ForecastObservation(dt='2006-12-31', value=0.76, is_forecast=False), ForecastObservation(dt='2007-01-31', value=1.29, is_forecast=False), ForecastObservation(dt='2007-02-28', value=1.21, is_forecast=False), ForecastObservation(dt='2007-03-31', value=1.28, is_forecast=False), ForecastObservation(dt='2007-04-30', value=1.51, is_forecast=False), ForecastObservation(dt='2007-05-31', value=1.3, is_forecast=False), ForecastObservation(dt='2007-06-30', value=1.53, is_forecast=False), ForecastObservation(dt='2007-07-31', value=1.66, is_forecast=False), ForecastObservation(dt='2007-08-31', value=1.74, is_forecast=False), ForecastObservation(dt='2007-09-30', value=1.62, is_forecast=False), ForecastObservation(dt='2007-10-31', value=2.14, is_forecast=False), ForecastObservation(dt='2007-11-30', value=2.35, is_forecast=False), ForecastObservation(dt='2007-12-31', value=2.4, is_forecast=False), ForecastObservation(dt='2008-01-31', value=1.81, is_forecast=False), ForecastObservation(dt='2008-02-29', value=1.78, is_forecast=False), ForecastObservation(dt='2008-03-31', value=2.16, is_forecast=False), ForecastObservation(dt='2008-04-30', value=2.04, is_forecast=False), ForecastObservation(dt='2008-05-31', value=2.3, is_forecast=False), ForecastObservation(dt='2008-06-30', value=2.18, is_forecast=False), ForecastObservation(dt='2008-07-31', value=1.82, is_forecast=False), ForecastObservation(dt='2008-08-31', value=2.06, is_forecast=False), ForecastObservation(dt='2008-09-30', value=2.12, is_forecast=False), ForecastObservation(dt='2008-10-31', value=1.88, is_forecast=False), ForecastObservation(dt='2008-11-30', value=1.66, is_forecast=False), ForecastObservation(dt='2008-12-31', value=1.69, is_forecast=False), ForecastObservation(dt='2009-01-31', value=2.39, is_forecast=False), ForecastObservation(dt='2009-02-28', value=2.51, is_forecast=False), ForecastObservation(dt='2009-03-31', value=2.14, is_forecast=False), ForecastObservation(dt='2009-04-30', value=2.09, is_forecast=False), ForecastObservation(dt='2009-05-31', value=1.66, is_forecast=False), ForecastObservation(dt='2009-06-30', value=1.58, is_forecast=False), ForecastObservation(dt='2009-07-31', value=2.26, is_forecast=False), ForecastObservation(dt='2009-08-31', value=2.12, is_forecast=False), ForecastObservation(dt='2009-09-30', value=2.04, is_forecast=False), ForecastObservation(dt='2009-10-31', value=2.07, is_forecast=False), ForecastObservation(dt='2009-11-30', value=2.05, is_forecast=False), ForecastObservation(dt='2009-12-31', value=2.1, is_forecast=False), ForecastObservation(dt='2010-01-31', value=1.74, is_forecast=False), ForecastObservation(dt='2010-02-28', value=1.66, is_forecast=False), ForecastObservation(dt='2010-03-31', value=1.58, is_forecast=False), ForecastObservation(dt='2010-04-30', value=1.44, is_forecast=False), ForecastObservation(dt='2010-05-31', value=1.8, is_forecast=False), ForecastObservation(dt='2010-06-30', value=1.85, is_forecast=False), ForecastObservation(dt='2010-07-31', value=1.47, is_forecast=False), ForecastObservation(dt='2010-08-31', value=1.35, is_forecast=False), ForecastObservation(dt='2010-09-30', value=1.37, is_forecast=False), ForecastObservation(dt='2010-10-31', value=1.36, is_forecast=False), ForecastObservation(dt='2010-11-30', value=1.47, is_forecast=False), ForecastObservation(dt='2010-12-31', value=1.42, is_forecast=False), ForecastObservation(dt='2011-01-31', value=0.92, is_forecast=False), ForecastObservation(dt='2011-02-28', value=1.1, is_forecast=False), ForecastObservation(dt='2011-03-31', value=0.94, is_forecast=False), ForecastObservation(dt='2011-04-30', value=1.19, is_forecast=False), ForecastObservation(dt='2011-05-31', value=1.12, is_forecast=False), ForecastObservation(dt='2011-06-30', value=0.99, is_forecast=False), ForecastObservation(dt='2011-07-31', value=1.08, is_forecast=False), ForecastObservation(dt='2011-08-31', value=1.13, is_forecast=False), ForecastObservation(dt='2011-09-30', value=1.11, is_forecast=False), ForecastObservation(dt='2011-10-31', value=0.77, is_forecast=False), ForecastObservation(dt='2011-11-30', value=0.8, is_forecast=False), ForecastObservation(dt='2011-12-31', value=0.79, is_forecast=False), ForecastObservation(dt='2012-01-31', value=0.89, is_forecast=False), ForecastObservation(dt='2012-02-29', value=0.93, is_forecast=False), ForecastObservation(dt='2012-03-31', value=1.16, is_forecast=False), ForecastObservation(dt='2012-04-30', value=1.02, is_forecast=False), ForecastObservation(dt='2012-05-31', value=1.18, is_forecast=False), ForecastObservation(dt='2012-06-30', value=1.23, is_forecast=False), ForecastObservation(dt='2012-07-31', value=1.11, is_forecast=False), ForecastObservation(dt='2012-08-31', value=0.95, is_forecast=False), ForecastObservation(dt='2012-09-30', value=0.87, is_forecast=False), ForecastObservation(dt='2012-10-31', value=1.14, is_forecast=False), ForecastObservation(dt='2012-11-30', value=0.96, is_forecast=False), ForecastObservation(dt='2012-12-31', value=1.06, is_forecast=False), ForecastObservation(dt='2013-01-31', value=1.29, is_forecast=False), ForecastObservation(dt='2013-02-28', value=1.23, is_forecast=False), ForecastObservation(dt='2013-03-31', value=1.33, is_forecast=False), ForecastObservation(dt='2013-04-30', value=1.0, is_forecast=False), ForecastObservation(dt='2013-05-31', value=1.02, is_forecast=False), ForecastObservation(dt='2013-06-30', value=1.1, is_forecast=False), ForecastObservation(dt='2013-07-31', value=1.19, is_forecast=False), ForecastObservation(dt='2013-08-31', value=1.41, is_forecast=False), ForecastObservation(dt='2013-09-30', value=1.11, is_forecast=False), ForecastObservation(dt='2013-10-31', value=0.82, is_forecast=False), ForecastObservation(dt='2013-11-30', value=0.86, is_forecast=False), ForecastObservation(dt='2013-12-31', value=0.99, is_forecast=False), ForecastObservation(dt='2014-01-31', value=0.75, is_forecast=False), ForecastObservation(dt='2014-02-28', value=0.77, is_forecast=False), ForecastObservation(dt='2014-03-31', value=0.27, is_forecast=False), ForecastObservation(dt='2014-04-30', value=0.74, is_forecast=False), ForecastObservation(dt='2014-05-31', value=0.52, is_forecast=False), ForecastObservation(dt='2014-06-30', value=0.81, is_forecast=False), ForecastObservation(dt='2014-07-31', value=0.82, is_forecast=False), ForecastObservation(dt='2014-08-31', value=0.71, is_forecast=False), ForecastObservation(dt='2014-09-30', value=0.54, is_forecast=False), ForecastObservation(dt='2014-10-31', value=0.92, is_forecast=False), ForecastObservation(dt='2014-11-30', value=0.96, is_forecast=False), ForecastObservation(dt='2014-12-31', value=1.1, is_forecast=False), ForecastObservation(dt='2015-01-31', value=1.15, is_forecast=False), ForecastObservation(dt='2015-02-28', value=1.28, is_forecast=False), ForecastObservation(dt='2015-03-31', value=1.26, is_forecast=False), ForecastObservation(dt='2015-04-30', value=0.99, is_forecast=False), ForecastObservation(dt='2015-05-31', value=1.45, is_forecast=False), ForecastObservation(dt='2015-06-30', value=1.07, is_forecast=False), ForecastObservation(dt='2015-07-31', value=1.54, is_forecast=False), ForecastObservation(dt='2015-08-31', value=1.43, is_forecast=False), ForecastObservation(dt='2015-09-30', value=1.81, is_forecast=False), ForecastObservation(dt='2015-10-31', value=1.63, is_forecast=False), ForecastObservation(dt='2015-11-30', value=1.39, is_forecast=False), ForecastObservation(dt='2015-12-31', value=1.28, is_forecast=False), ForecastObservation(dt='2016-01-31', value=1.59, is_forecast=False), ForecastObservation(dt='2016-02-29', value=1.52, is_forecast=False), ForecastObservation(dt='2016-03-31', value=1.86, is_forecast=False), ForecastObservation(dt='2016-04-30', value=1.75, is_forecast=False), ForecastObservation(dt='2016-05-31', value=1.42, is_forecast=False), ForecastObservation(dt='2016-06-30', value=1.46, is_forecast=False), ForecastObservation(dt='2016-07-31', value=1.4, is_forecast=False), ForecastObservation(dt='2016-08-31', value=1.38, is_forecast=False), ForecastObservation(dt='2016-09-30', value=0.96, is_forecast=False), ForecastObservation(dt='2016-10-31', value=0.98, is_forecast=False), ForecastObservation(dt='2016-11-30', value=1.21, is_forecast=False), ForecastObservation(dt='2016-12-31', value=1.35, is_forecast=False), ForecastObservation(dt='2017-01-31', value=1.19, is_forecast=False), ForecastObservation(dt='2017-02-28', value=1.31, is_forecast=False), ForecastObservation(dt='2017-03-31', value=1.01, is_forecast=False), ForecastObservation(dt='2017-04-30', value=1.59, is_forecast=False), ForecastObservation(dt='2017-05-31', value=1.59, is_forecast=False), ForecastObservation(dt='2017-06-30', value=1.91, is_forecast=False), ForecastObservation(dt='2017-07-31', value=2.13, is_forecast=False), ForecastObservation(dt='2017-08-31', value=2.02, is_forecast=False), ForecastObservation(dt='2017-09-30', value=1.89, is_forecast=False), ForecastObservation(dt='2017-10-31', value=1.75, is_forecast=False), ForecastObservation(dt='2017-11-30', value=1.77, is_forecast=False), ForecastObservation(dt='2017-12-31', value=1.71, is_forecast=False), ForecastObservation(dt='2018-01-31', value=1.5, is_forecast=False), ForecastObservation(dt='2018-02-28', value=1.48, is_forecast=False), ForecastObservation(dt='2018-03-31', value=1.54, is_forecast=False), ForecastObservation(dt='2018-04-30', value=1.43, is_forecast=False), ForecastObservation(dt='2018-05-31', value=1.49, is_forecast=False), ForecastObservation(dt='2018-06-30', value=1.36, is_forecast=False), ForecastObservation(dt='2018-07-31', value=1.29, is_forecast=False), ForecastObservation(dt='2018-08-31', value=1.17, is_forecast=False), ForecastObservation(dt='2018-09-30', value=1.63, is_forecast=False), ForecastObservation(dt='2018-10-31', value=1.51, is_forecast=False), ForecastObservation(dt='2018-11-30', value=1.41, is_forecast=False), ForecastObservation(dt='2018-12-31', value=1.54, is_forecast=False), ForecastObservation(dt='2019-01-31', value=1.37, is_forecast=False), ForecastObservation(dt='2019-02-28', value=1.43, is_forecast=False), ForecastObservation(dt='2019-03-31', value=1.49, is_forecast=False), ForecastObservation(dt='2019-04-30', value=1.61, is_forecast=False), ForecastObservation(dt='2019-05-31', value=1.7, is_forecast=False), ForecastObservation(dt='2019-06-30', value=1.87, is_forecast=False), ForecastObservation(dt='2019-07-31', value=1.7, is_forecast=False), ForecastObservation(dt='2019-08-31', value=1.62, is_forecast=False), ForecastObservation(dt='2019-09-30', value=1.65, is_forecast=False), ForecastObservation(dt='2019-10-31', value=1.69, is_forecast=False), ForecastObservation(dt='2019-11-30', value=1.78, is_forecast=False), ForecastObservation(dt='2019-12-31', value=1.73, is_forecast=False), ForecastObservation(dt='2020-01-31', value=1.64, is_forecast=False), ForecastObservation(dt='2020-02-29', value=1.62, is_forecast=False), ForecastObservation(dt='2020-03-31', value=1.53, is_forecast=False), ForecastObservation(dt='2020-04-30', value=0.99, is_forecast=False), ForecastObservation(dt='2020-05-31', value=1.25, is_forecast=False), ForecastObservation(dt='2020-06-30', value=1.31, is_forecast=False), ForecastObservation(dt='2020-07-31', value=1.52, is_forecast=False), ForecastObservation(dt='2020-08-31', value=1.41, is_forecast=False), ForecastObservation(dt='2020-09-30', value=0.92, is_forecast=False), ForecastObservation(dt='2020-10-31', value=1.09, is_forecast=False), ForecastObservation(dt='2020-11-30', value=1.14, is_forecast=False), ForecastObservation(dt='2020-12-31', value=1.16, is_forecast=False), ForecastObservation(dt='2021-01-31', value=1.83, is_forecast=False), ForecastObservation(dt='2021-02-28', value=1.23, is_forecast=False), ForecastObservation(dt='2021-03-31', value=1.37, is_forecast=False), ForecastObservation(dt='2021-04-30', value=1.7, is_forecast=False), ForecastObservation(dt='2021-05-31', value=1.22, is_forecast=False), ForecastObservation(dt='2021-06-30', value=0.9, is_forecast=False), ForecastObservation(dt='2021-07-31', value=0.52, is_forecast=False), ForecastObservation(dt='2021-08-31', value=1.39, is_forecast=False), ForecastObservation(dt='2021-09-30', value=1.52, is_forecast=False), ForecastObservation(dt='2021-10-31', value=1.82, is_forecast=False), ForecastObservation(dt='2021-11-30', value=1.86, is_forecast=False), ForecastObservation(dt='2021-12-31', value=1.73, is_forecast=False), ForecastObservation(dt='2022-01-31', value=2.53, is_forecast=False), ForecastObservation(dt='2022-02-28', value=3.4, is_forecast=False), ForecastObservation(dt='2022-03-31', value=4.07, is_forecast=False), ForecastObservation(dt='2022-04-30', value=4.31, is_forecast=True), ForecastObservation(dt='2022-05-31', value=4.77, is_forecast=True), ForecastObservation(dt='2022-06-30', value=4.97, is_forecast=True), ForecastObservation(dt='2022-07-31', value=5.1, is_forecast=True), ForecastObservation(dt='2022-08-31', value=4.95, is_forecast=True), ForecastObservation(dt='2022-09-30', value=5.26, is_forecast=True), ForecastObservation(dt='2022-10-31', value=5.09, is_forecast=True), ForecastObservation(dt='2022-11-30', value=5.29, is_forecast=True), ForecastObservation(dt='2022-12-31', value=5.3, is_forecast=True), ForecastObservation(dt='2023-01-31', value=4.88, is_forecast=True), ForecastObservation(dt='2023-02-28', value=4.54, is_forecast=True), ForecastObservation(dt='2023-03-31', value=3.84, is_forecast=True), ForecastObservation(dt='2023-04-30', value=3.52, is_forecast=True), ForecastObservation(dt='2023-05-31', value=3.26, is_forecast=True), ForecastObservation(dt='2023-06-30', value=3.01, is_forecast=True), ForecastObservation(dt='2023-07-31', value=2.79, is_forecast=True), ForecastObservation(dt='2023-08-31', value=2.67, is_forecast=True), ForecastObservation(dt='2023-09-30', value=2.53, is_forecast=True), ForecastObservation(dt='2023-10-31', value=2.41, is_forecast=True), ForecastObservation(dt='2023-11-30', value=2.27, is_forecast=True), ForecastObservation(dt='2023-12-31', value=2.15, is_forecast=True), ForecastObservation(dt='2024-01-31', value=2.02, is_forecast=True), ForecastObservation(dt='2024-02-29', value=1.96, is_forecast=True), ForecastObservation(dt='2024-03-31', value=1.91, is_forecast=True), ForecastObservation(dt='2024-04-30', value=1.91, is_forecast=True), ForecastObservation(dt='2024-05-31', value=1.92, is_forecast=True), ForecastObservation(dt='2024-06-30', value=1.93, is_forecast=True), ForecastObservation(dt='2024-07-31', value=1.92, is_forecast=True), ForecastObservation(dt='2024-08-31', value=1.94, is_forecast=True), ForecastObservation(dt='2024-09-30', value=1.96, is_forecast=True), ForecastObservation(dt='2024-10-31', value=1.98, is_forecast=True), ForecastObservation(dt='2024-11-30', value=2.0, is_forecast=True), ForecastObservation(dt='2024-12-31', value=2.02, is_forecast=True), ForecastObservation(dt='2025-01-31', value=1.98, is_forecast=True), ForecastObservation(dt='2025-02-28', value=1.98, is_forecast=True), ForecastObservation(dt='2025-03-31', value=1.99, is_forecast=True), ForecastObservation(dt='2025-04-30', value=1.99, is_forecast=True), ForecastObservation(dt='2025-05-31', value=2.0, is_forecast=True), ForecastObservation(dt='2025-06-30', value=2.0, is_forecast=True)])])"
      ]
     },
     "execution_count": 2,
     "metadata": {},
     "output_type": "execute_result"
    }
   ],
   "source": [
    "await mpt.get_cpif_ex_energy_data(\n",
    "    policy_round=\"2022:2\"\n",
    ")"
   ]
  },
  {
   "cell_type": "code",
   "execution_count": 2,
   "metadata": {},
   "outputs": [
    {
     "name": "stdout",
     "output_type": "stream",
     "text": [
      "\n",
      "get_gdp_forecast_data\n"
     ]
    },
    {
     "name": "stderr",
     "output_type": "stream",
     "text": [
      "HTTP Request: GET https://api.riksbank.se/monetary_policy_data/v1/forecasts?series=SEQGDPNAYCA&policy_round_name=2022:2 \"HTTP/1.1 200 OK\"\n"
     ]
    },
    {
     "name": "stdout",
     "output_type": "stream",
     "text": [
      "\n",
      "\n",
      "get_unemployment_forecast_data\n"
     ]
    },
    {
     "name": "stderr",
     "output_type": "stream",
     "text": [
      "HTTP Request: GET https://api.riksbank.se/monetary_policy_data/v1/forecasts?series=SEQLABUEASA&policy_round_name=2022:2 \"HTTP/1.1 200 OK\"\n"
     ]
    },
    {
     "name": "stdout",
     "output_type": "stream",
     "text": [
      "\n",
      "\n",
      "get_cpi_forecast_data\n"
     ]
    },
    {
     "name": "stderr",
     "output_type": "stream",
     "text": [
      "HTTP Request: GET https://api.riksbank.se/monetary_policy_data/v1/forecasts?series=SEMCPINAYNA&policy_round_name=2022:2 \"HTTP/1.1 200 OK\"\n"
     ]
    },
    {
     "name": "stdout",
     "output_type": "stream",
     "text": [
      "\n",
      "\n",
      "get_cpif_forecast_data\n"
     ]
    },
    {
     "name": "stderr",
     "output_type": "stream",
     "text": [
      "HTTP Request: GET https://api.riksbank.se/monetary_policy_data/v1/forecasts?series=SEMCPIFNAYNA&policy_round_name=2022:2 \"HTTP/1.1 200 OK\"\n"
     ]
    },
    {
     "name": "stdout",
     "output_type": "stream",
     "text": [
      "\n",
      "\n",
      "get_cpif_ex_energy_forecast_data\n"
     ]
    },
    {
     "name": "stderr",
     "output_type": "stream",
     "text": [
      "HTTP Request: GET https://api.riksbank.se/monetary_policy_data/v1/forecasts?series=SEMCPIFFEXYNA&policy_round_name=2022:2 \"HTTP/1.1 200 OK\"\n"
     ]
    },
    {
     "name": "stdout",
     "output_type": "stream",
     "text": [
      "\n",
      "\n",
      "get_hourly_labour_cost_forecast_data\n"
     ]
    },
    {
     "name": "stderr",
     "output_type": "stream",
     "text": [
      "HTTP Request: GET https://api.riksbank.se/monetary_policy_data/v1/forecasts?series=SEACOMNAYCA&policy_round_name=2022:2 \"HTTP/1.1 200 OK\"\n"
     ]
    },
    {
     "name": "stdout",
     "output_type": "stream",
     "text": [
      "\n",
      "\n",
      "get_hourly_wage_na_forecast_data\n"
     ]
    },
    {
     "name": "stderr",
     "output_type": "stream",
     "text": [
      "HTTP Request: GET https://api.riksbank.se/monetary_policy_data/v1/forecasts?series=SEAWAGNAYCA&policy_round_name=2022:2 \"HTTP/1.1 200 OK\"\n"
     ]
    },
    {
     "name": "stdout",
     "output_type": "stream",
     "text": [
      "\n",
      "\n",
      "get_hourly_wage_nmo_forecast_data\n"
     ]
    },
    {
     "name": "stderr",
     "output_type": "stream",
     "text": [
      "HTTP Request: GET https://api.riksbank.se/monetary_policy_data/v1/forecasts?series=SEAWAGKLYNA&policy_round_name=2022:2 \"HTTP/1.1 200 OK\"\n"
     ]
    },
    {
     "name": "stdout",
     "output_type": "stream",
     "text": [
      "\n",
      "\n",
      "get_population_forecast_data\n"
     ]
    },
    {
     "name": "stderr",
     "output_type": "stream",
     "text": [
      "HTTP Request: GET https://api.riksbank.se/monetary_policy_data/v1/forecasts?series=SEPOPYRCA&policy_round_name=2022:2 \"HTTP/1.1 404 Resource not found\"\n",
      "Got 404 at https://api.riksbank.se/monetary_policy_data/v1/forecasts?series=SEPOPYRCA&policy_round_name=2022:2, returning empty.\n"
     ]
    },
    {
     "name": "stdout",
     "output_type": "stream",
     "text": [
      "\n",
      "\n",
      "get_employed_persons_forecast_data\n"
     ]
    },
    {
     "name": "stderr",
     "output_type": "stream",
     "text": [
      "HTTP Request: GET https://api.riksbank.se/monetary_policy_data/v1/forecasts?series=SEQLABEPASA&policy_round_name=2022:2 \"HTTP/1.1 200 OK\"\n"
     ]
    },
    {
     "name": "stdout",
     "output_type": "stream",
     "text": [
      "\n",
      "\n",
      "get_labour_force_forecast_data\n"
     ]
    },
    {
     "name": "stderr",
     "output_type": "stream",
     "text": [
      "HTTP Request: GET https://api.riksbank.se/monetary_policy_data/v1/forecasts?series=SEQLABLFASA&policy_round_name=2022:2 \"HTTP/1.1 200 OK\"\n"
     ]
    },
    {
     "name": "stdout",
     "output_type": "stream",
     "text": [
      "\n",
      "\n",
      "get_gdp_gap_forecast_data\n"
     ]
    },
    {
     "name": "stderr",
     "output_type": "stream",
     "text": [
      "HTTP Request: GET https://api.riksbank.se/monetary_policy_data/v1/forecasts?series=SEQGDPGAPYSA&policy_round_name=2022:2 \"HTTP/1.1 200 OK\"\n"
     ]
    },
    {
     "name": "stdout",
     "output_type": "stream",
     "text": [
      "\n",
      "\n",
      "get_policy_rate_forecast_data\n"
     ]
    },
    {
     "name": "stderr",
     "output_type": "stream",
     "text": [
      "HTTP Request: GET https://api.riksbank.se/monetary_policy_data/v1/forecasts?series=SEQRATENAYNA&policy_round_name=2022:2 \"HTTP/1.1 200 OK\"\n"
     ]
    },
    {
     "name": "stdout",
     "output_type": "stream",
     "text": [
      "\n",
      "\n",
      "get_general_government_net_lending_forecast_data\n"
     ]
    },
    {
     "name": "stderr",
     "output_type": "stream",
     "text": [
      "HTTP Request: GET https://api.riksbank.se/monetary_policy_data/v1/forecasts?series=SEAPBSNAYNA&policy_round_name=2022:2 \"HTTP/1.1 200 OK\"\n"
     ]
    },
    {
     "name": "stdout",
     "output_type": "stream",
     "text": [
      "\n",
      "\n",
      "get_gdp_level_saca_forecast_data\n"
     ]
    },
    {
     "name": "stderr",
     "output_type": "stream",
     "text": [
      "HTTP Request: GET https://api.riksbank.se/monetary_policy_data/v1/forecasts?series=SEQGDPNAASA&policy_round_name=2022:2 \"HTTP/1.1 200 OK\"\n"
     ]
    },
    {
     "name": "stdout",
     "output_type": "stream",
     "text": [
      "\n",
      "\n",
      "get_gdp_level_ca_forecast_data\n"
     ]
    },
    {
     "name": "stderr",
     "output_type": "stream",
     "text": [
      "HTTP Request: GET https://api.riksbank.se/monetary_policy_data/v1/forecasts?series=SEQGDPNAACA&policy_round_name=2022:2 \"HTTP/1.1 200 OK\"\n"
     ]
    },
    {
     "name": "stdout",
     "output_type": "stream",
     "text": [
      "\n",
      "\n",
      "get_gdp_level_na_forecast_data\n"
     ]
    },
    {
     "name": "stderr",
     "output_type": "stream",
     "text": [
      "HTTP Request: GET https://api.riksbank.se/monetary_policy_data/v1/forecasts?series=SEQGDPNAANA&policy_round_name=2022:2 \"HTTP/1.1 200 OK\"\n"
     ]
    },
    {
     "name": "stdout",
     "output_type": "stream",
     "text": [
      "\n",
      "\n",
      "get_gdp_yoy_sa_forecast_data\n"
     ]
    },
    {
     "name": "stderr",
     "output_type": "stream",
     "text": [
      "HTTP Request: GET https://api.riksbank.se/monetary_policy_data/v1/forecasts?series=SEQGDPNAYSA&policy_round_name=2022:2 \"HTTP/1.1 200 OK\"\n"
     ]
    },
    {
     "name": "stdout",
     "output_type": "stream",
     "text": [
      "\n",
      "\n",
      "get_gdp_yoy_na_forecast_data\n"
     ]
    },
    {
     "name": "stderr",
     "output_type": "stream",
     "text": [
      "HTTP Request: GET https://api.riksbank.se/monetary_policy_data/v1/forecasts?series=SEQGDPNAYNA&policy_round_name=2022:2 \"HTTP/1.1 200 OK\"\n"
     ]
    },
    {
     "name": "stdout",
     "output_type": "stream",
     "text": [
      "\n",
      "\n",
      "get_cpi_index_forecast_data\n"
     ]
    },
    {
     "name": "stderr",
     "output_type": "stream",
     "text": [
      "HTTP Request: GET https://api.riksbank.se/monetary_policy_data/v1/forecasts?series=SEMCPINAANA&policy_round_name=2022:2 \"HTTP/1.1 200 OK\"\n"
     ]
    },
    {
     "name": "stdout",
     "output_type": "stream",
     "text": [
      "\n",
      "\n",
      "get_cpi_yoy_forecast_data\n"
     ]
    },
    {
     "name": "stderr",
     "output_type": "stream",
     "text": [
      "HTTP Request: GET https://api.riksbank.se/monetary_policy_data/v1/forecasts?series=SEMCPINAYNA&policy_round_name=2022:2 \"HTTP/1.1 200 OK\"\n"
     ]
    },
    {
     "name": "stdout",
     "output_type": "stream",
     "text": [
      "\n",
      "\n",
      "get_cpif_yoy_forecast_data\n"
     ]
    },
    {
     "name": "stderr",
     "output_type": "stream",
     "text": [
      "HTTP Request: GET https://api.riksbank.se/monetary_policy_data/v1/forecasts?series=SEMCPIFNAYNA&policy_round_name=2022:2 \"HTTP/1.1 200 OK\"\n"
     ]
    },
    {
     "name": "stdout",
     "output_type": "stream",
     "text": [
      "\n",
      "\n",
      "get_cpif_ex_energy_index_forecast_data\n"
     ]
    },
    {
     "name": "stderr",
     "output_type": "stream",
     "text": [
      "HTTP Request: GET https://api.riksbank.se/monetary_policy_data/v1/forecasts?series=SEMCPIFFEXANA&policy_round_name=2022:2 \"HTTP/1.1 200 OK\"\n"
     ]
    },
    {
     "name": "stdout",
     "output_type": "stream",
     "text": [
      "\n",
      "\n",
      "get_nominal_exchange_rate_kix_index_forecast_data\n"
     ]
    },
    {
     "name": "stderr",
     "output_type": "stream",
     "text": [
      "HTTP Request: GET https://api.riksbank.se/monetary_policy_data/v1/forecasts?series=SEQKIXNAANA&policy_round_name=2022:2 \"HTTP/1.1 200 OK\"\n"
     ]
    },
    {
     "name": "stdout",
     "output_type": "stream",
     "text": [
      "\n",
      "\n",
      "get_population_level_forecast_data\n"
     ]
    },
    {
     "name": "stderr",
     "output_type": "stream",
     "text": [
      "HTTP Request: GET https://api.riksbank.se/monetary_policy_data/v1/forecasts?series=SEQPOPNAANA&policy_round_name=2022:2 \"HTTP/1.1 200 OK\"\n"
     ]
    },
    {
     "name": "stdout",
     "output_type": "stream",
     "text": [
      "\n"
     ]
    }
   ],
   "source": [
    "for f in mpt.___all__[3:]:\n",
    "    print(\"\")\n",
    "    print(f)\n",
    "    try:\n",
    "        await mpt.__dict__[f](policy_round=\"2022:2\")\n",
    "    except Exception as e:\n",
    "        print(f\"Error in {f}: {e}\")\n",
    "    time.sleep(1)\n",
    "    print(\"\")"
   ]
  },
  {
   "cell_type": "markdown",
   "metadata": {},
   "source": []
  }
 ],
 "metadata": {
  "kernelspec": {
   "display_name": ".venv",
   "language": "python",
   "name": "python3"
  },
  "language_info": {
   "codemirror_mode": {
    "name": "ipython",
    "version": 3
   },
   "file_extension": ".py",
   "mimetype": "text/x-python",
   "name": "python",
   "nbconvert_exporter": "python",
   "pygments_lexer": "ipython3",
   "version": "3.13.1"
  }
 },
 "nbformat": 4,
 "nbformat_minor": 2
}
