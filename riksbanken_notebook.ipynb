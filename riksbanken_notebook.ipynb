{
 "cells": [
  {
   "cell_type": "code",
   "execution_count": 1,
   "metadata": {},
   "outputs": [
    {
     "ename": "ImportError",
     "evalue": "cannot import name 'get_nominal_exchange_rate_kix_data' from 'riksbank_mcp.tools.monetary_policy_tools' (/Users/hugi/GitRepos/staten_ai/mcp-servers/riksbank-mcp/src/riksbank_mcp/tools/monetary_policy_tools.py)",
     "output_type": "error",
     "traceback": [
      "\u001b[31m---------------------------------------------------------------------------\u001b[39m",
      "\u001b[31mImportError\u001b[39m                               Traceback (most recent call last)",
      "\u001b[36mCell\u001b[39m\u001b[36m \u001b[39m\u001b[32mIn[1]\u001b[39m\u001b[32m, line 1\u001b[39m\n\u001b[32m----> \u001b[39m\u001b[32m1\u001b[39m \u001b[38;5;28;01mimport\u001b[39;00m\u001b[38;5;250m \u001b[39m\u001b[34;01msrc\u001b[39;00m\u001b[34;01m.\u001b[39;00m\u001b[34;01mriksbank_mcp\u001b[39;00m\u001b[34;01m.\u001b[39;00m\u001b[34;01mtools\u001b[39;00m\u001b[34;01m.\u001b[39;00m\u001b[34;01mmonetary_policy_tools\u001b[39;00m\u001b[38;5;250m \u001b[39m\u001b[38;5;28;01mas\u001b[39;00m\u001b[38;5;250m \u001b[39m\u001b[34;01mmpt\u001b[39;00m\n\u001b[32m      2\u001b[39m \u001b[38;5;28;01mimport\u001b[39;00m\u001b[38;5;250m \u001b[39m\u001b[34;01mtime\u001b[39;00m\n",
      "\u001b[36mFile \u001b[39m\u001b[32m~/GitRepos/staten_ai/mcp-servers/riksbank-mcp/src/riksbank_mcp/__init__.py:3\u001b[39m\n\u001b[32m      1\u001b[39m \u001b[38;5;28;01mimport\u001b[39;00m\u001b[38;5;250m \u001b[39m\u001b[34;01masyncio\u001b[39;00m\n\u001b[32m----> \u001b[39m\u001b[32m3\u001b[39m \u001b[38;5;28;01mfrom\u001b[39;00m\u001b[38;5;250m \u001b[39m\u001b[34;01m.\u001b[39;00m\u001b[38;5;250m \u001b[39m\u001b[38;5;28;01mimport\u001b[39;00m server\n\u001b[32m      6\u001b[39m \u001b[38;5;28;01mdef\u001b[39;00m\u001b[38;5;250m \u001b[39m\u001b[34mmain\u001b[39m():\n\u001b[32m      7\u001b[39m     asyncio.run(server.main())\n",
      "\u001b[36mFile \u001b[39m\u001b[32m~/GitRepos/staten_ai/mcp-servers/riksbank-mcp/src/riksbank_mcp/server.py:12\u001b[39m\n\u001b[32m      8\u001b[39m \u001b[38;5;28;01mfrom\u001b[39;00m\u001b[38;5;250m \u001b[39m\u001b[34;01mtyping\u001b[39;00m\u001b[38;5;250m \u001b[39m\u001b[38;5;28;01mimport\u001b[39;00m Any, AsyncIterator\n\u001b[32m     10\u001b[39m \u001b[38;5;28;01mfrom\u001b[39;00m\u001b[38;5;250m \u001b[39m\u001b[34;01mmcp\u001b[39;00m\u001b[34;01m.\u001b[39;00m\u001b[34;01mserver\u001b[39;00m\u001b[38;5;250m \u001b[39m\u001b[38;5;28;01mimport\u001b[39;00m FastMCP\n\u001b[32m---> \u001b[39m\u001b[32m12\u001b[39m \u001b[38;5;28;01mfrom\u001b[39;00m\u001b[38;5;250m \u001b[39m\u001b[34;01mriksbank_mcp\u001b[39;00m\u001b[34;01m.\u001b[39;00m\u001b[34;01mtools\u001b[39;00m\u001b[34;01m.\u001b[39;00m\u001b[34;01mmonetary_policy_tools\u001b[39;00m\u001b[38;5;250m \u001b[39m\u001b[38;5;28;01mimport\u001b[39;00m (\n\u001b[32m     13\u001b[39m     get_cpi_data,\n\u001b[32m     14\u001b[39m     get_cpif_data,\n\u001b[32m     15\u001b[39m     get_cpif_ex_energy_data,\n\u001b[32m     16\u001b[39m     get_employed_persons_data,\n\u001b[32m     17\u001b[39m     get_gdp_data,\n\u001b[32m     18\u001b[39m     get_gdp_gap_data,\n\u001b[32m     19\u001b[39m     get_general_government_net_lending_data,\n\u001b[32m     20\u001b[39m     get_hourly_labour_cost_data,\n\u001b[32m     21\u001b[39m     get_hourly_wage_na_data,\n\u001b[32m     22\u001b[39m     get_hourly_wage_nmo_data,\n\u001b[32m     23\u001b[39m     get_labour_force_data,\n\u001b[32m     24\u001b[39m     get_nominal_exchange_rate_kix_data,\n\u001b[32m     25\u001b[39m     get_policy_data,\n\u001b[32m     26\u001b[39m     get_policy_rate_data,\n\u001b[32m     27\u001b[39m     get_population_data,\n\u001b[32m     28\u001b[39m     get_unemployment_data,\n\u001b[32m     29\u001b[39m     list_policy_rounds,\n\u001b[32m     30\u001b[39m     list_series_ids,\n\u001b[32m     31\u001b[39m )\n\u001b[32m     32\u001b[39m \u001b[38;5;28;01mfrom\u001b[39;00m\u001b[38;5;250m \u001b[39m\u001b[34;01mriksbank_mcp\u001b[39;00m\u001b[34;01m.\u001b[39;00m\u001b[34;01mtools\u001b[39;00m\u001b[34;01m.\u001b[39;00m\u001b[34;01mswea_tools\u001b[39;00m\u001b[38;5;250m \u001b[39m\u001b[38;5;28;01mimport\u001b[39;00m (\n\u001b[32m     33\u001b[39m     get_calendar_days,\n\u001b[32m     34\u001b[39m     get_cross_rate_aggregates,\n\u001b[32m   (...)\u001b[39m\u001b[32m     47\u001b[39m     list_series,\n\u001b[32m     48\u001b[39m )\n\u001b[32m     49\u001b[39m \u001b[38;5;28;01mfrom\u001b[39;00m\u001b[38;5;250m \u001b[39m\u001b[34;01mriksbank_mcp\u001b[39;00m\u001b[34;01m.\u001b[39;00m\u001b[34;01mtools\u001b[39;00m\u001b[34;01m.\u001b[39;00m\u001b[34;01mswestr_tools\u001b[39;00m\u001b[38;5;250m \u001b[39m\u001b[38;5;28;01mimport\u001b[39;00m (\n\u001b[32m     50\u001b[39m     get_latest_swestr,\n\u001b[32m     51\u001b[39m     get_swestr,\n\u001b[32m   (...)\u001b[39m\u001b[32m     54\u001b[39m     get_swestr_averages,\n\u001b[32m     55\u001b[39m )\n",
      "\u001b[36mFile \u001b[39m\u001b[32m~/GitRepos/staten_ai/mcp-servers/riksbank-mcp/src/riksbank_mcp/__init__.py:3\u001b[39m\n\u001b[32m      1\u001b[39m \u001b[38;5;28;01mimport\u001b[39;00m\u001b[38;5;250m \u001b[39m\u001b[34;01masyncio\u001b[39;00m\n\u001b[32m----> \u001b[39m\u001b[32m3\u001b[39m \u001b[38;5;28;01mfrom\u001b[39;00m\u001b[38;5;250m \u001b[39m\u001b[34;01m.\u001b[39;00m\u001b[38;5;250m \u001b[39m\u001b[38;5;28;01mimport\u001b[39;00m server\n\u001b[32m      6\u001b[39m \u001b[38;5;28;01mdef\u001b[39;00m\u001b[38;5;250m \u001b[39m\u001b[34mmain\u001b[39m():\n\u001b[32m      7\u001b[39m     asyncio.run(server.main())\n",
      "\u001b[36mFile \u001b[39m\u001b[32m~/GitRepos/staten_ai/mcp-servers/riksbank-mcp/src/riksbank_mcp/server.py:12\u001b[39m\n\u001b[32m      8\u001b[39m \u001b[38;5;28;01mfrom\u001b[39;00m\u001b[38;5;250m \u001b[39m\u001b[34;01mtyping\u001b[39;00m\u001b[38;5;250m \u001b[39m\u001b[38;5;28;01mimport\u001b[39;00m Any, AsyncIterator\n\u001b[32m     10\u001b[39m \u001b[38;5;28;01mfrom\u001b[39;00m\u001b[38;5;250m \u001b[39m\u001b[34;01mmcp\u001b[39;00m\u001b[34;01m.\u001b[39;00m\u001b[34;01mserver\u001b[39;00m\u001b[38;5;250m \u001b[39m\u001b[38;5;28;01mimport\u001b[39;00m FastMCP\n\u001b[32m---> \u001b[39m\u001b[32m12\u001b[39m \u001b[38;5;28;01mfrom\u001b[39;00m\u001b[38;5;250m \u001b[39m\u001b[34;01mriksbank_mcp\u001b[39;00m\u001b[34;01m.\u001b[39;00m\u001b[34;01mtools\u001b[39;00m\u001b[34;01m.\u001b[39;00m\u001b[34;01mmonetary_policy_tools\u001b[39;00m\u001b[38;5;250m \u001b[39m\u001b[38;5;28;01mimport\u001b[39;00m (\n\u001b[32m     13\u001b[39m     get_cpi_data,\n\u001b[32m     14\u001b[39m     get_cpif_data,\n\u001b[32m     15\u001b[39m     get_cpif_ex_energy_data,\n\u001b[32m     16\u001b[39m     get_employed_persons_data,\n\u001b[32m     17\u001b[39m     get_gdp_data,\n\u001b[32m     18\u001b[39m     get_gdp_gap_data,\n\u001b[32m     19\u001b[39m     get_general_government_net_lending_data,\n\u001b[32m     20\u001b[39m     get_hourly_labour_cost_data,\n\u001b[32m     21\u001b[39m     get_hourly_wage_na_data,\n\u001b[32m     22\u001b[39m     get_hourly_wage_nmo_data,\n\u001b[32m     23\u001b[39m     get_labour_force_data,\n\u001b[32m     24\u001b[39m     get_nominal_exchange_rate_kix_data,\n\u001b[32m     25\u001b[39m     get_policy_data,\n\u001b[32m     26\u001b[39m     get_policy_rate_data,\n\u001b[32m     27\u001b[39m     get_population_data,\n\u001b[32m     28\u001b[39m     get_unemployment_data,\n\u001b[32m     29\u001b[39m     list_policy_rounds,\n\u001b[32m     30\u001b[39m     list_series_ids,\n\u001b[32m     31\u001b[39m )\n\u001b[32m     32\u001b[39m \u001b[38;5;28;01mfrom\u001b[39;00m\u001b[38;5;250m \u001b[39m\u001b[34;01mriksbank_mcp\u001b[39;00m\u001b[34;01m.\u001b[39;00m\u001b[34;01mtools\u001b[39;00m\u001b[34;01m.\u001b[39;00m\u001b[34;01mswea_tools\u001b[39;00m\u001b[38;5;250m \u001b[39m\u001b[38;5;28;01mimport\u001b[39;00m (\n\u001b[32m     33\u001b[39m     get_calendar_days,\n\u001b[32m     34\u001b[39m     get_cross_rate_aggregates,\n\u001b[32m   (...)\u001b[39m\u001b[32m     47\u001b[39m     list_series,\n\u001b[32m     48\u001b[39m )\n\u001b[32m     49\u001b[39m \u001b[38;5;28;01mfrom\u001b[39;00m\u001b[38;5;250m \u001b[39m\u001b[34;01mriksbank_mcp\u001b[39;00m\u001b[34;01m.\u001b[39;00m\u001b[34;01mtools\u001b[39;00m\u001b[34;01m.\u001b[39;00m\u001b[34;01mswestr_tools\u001b[39;00m\u001b[38;5;250m \u001b[39m\u001b[38;5;28;01mimport\u001b[39;00m (\n\u001b[32m     50\u001b[39m     get_latest_swestr,\n\u001b[32m     51\u001b[39m     get_swestr,\n\u001b[32m   (...)\u001b[39m\u001b[32m     54\u001b[39m     get_swestr_averages,\n\u001b[32m     55\u001b[39m )\n",
      "\u001b[31mImportError\u001b[39m: cannot import name 'get_nominal_exchange_rate_kix_data' from 'riksbank_mcp.tools.monetary_policy_tools' (/Users/hugi/GitRepos/staten_ai/mcp-servers/riksbank-mcp/src/riksbank_mcp/tools/monetary_policy_tools.py)"
     ]
    }
   ],
   "source": [
    "import src.riksbank_mcp.tools.monetary_policy_tools as mpt\n",
    "import time"
   ]
  },
  {
   "cell_type": "code",
   "execution_count": null,
   "metadata": {},
   "outputs": [
    {
     "name": "stdout",
     "output_type": "stream",
     "text": [
      "\n",
      "get_gdp_data\n"
     ]
    },
    {
     "name": "stderr",
     "output_type": "stream",
     "text": [
      "HTTP Request: GET https://api.riksbank.se/monetary_policy_data/v1/forecasts?series=SEQGDPNAYCA&policy_round_name=2022:2 \"HTTP/1.1 200 OK\"\n"
     ]
    },
    {
     "name": "stdout",
     "output_type": "stream",
     "text": [
      "\n",
      "\n",
      "get_unemployment_data\n"
     ]
    },
    {
     "name": "stderr",
     "output_type": "stream",
     "text": [
      "HTTP Request: GET https://api.riksbank.se/monetary_policy_data/v1/forecasts?series=SEQLABUEASA&policy_round_name=2022:2 \"HTTP/1.1 200 OK\"\n"
     ]
    },
    {
     "name": "stdout",
     "output_type": "stream",
     "text": [
      "\n",
      "\n",
      "get_cpi_data\n"
     ]
    },
    {
     "name": "stderr",
     "output_type": "stream",
     "text": [
      "HTTP Request: GET https://api.riksbank.se/monetary_policy_data/v1/forecasts?series=SEMCPINAYNA&policy_round_name=2022:2 \"HTTP/1.1 200 OK\"\n"
     ]
    },
    {
     "name": "stdout",
     "output_type": "stream",
     "text": [
      "\n",
      "\n",
      "get_cpif_data\n"
     ]
    },
    {
     "name": "stderr",
     "output_type": "stream",
     "text": [
      "HTTP Request: GET https://api.riksbank.se/monetary_policy_data/v1/forecasts?series=SEMCPIFNAYNA&policy_round_name=2022:2 \"HTTP/1.1 200 OK\"\n"
     ]
    },
    {
     "name": "stdout",
     "output_type": "stream",
     "text": [
      "\n",
      "\n",
      "get_cpif_ex_energy_data\n"
     ]
    },
    {
     "name": "stderr",
     "output_type": "stream",
     "text": [
      "HTTP Request: GET https://api.riksbank.se/monetary_policy_data/v1/forecasts?series=SEMCPIFFEXYNA&policy_round_name=2022:2 \"HTTP/1.1 200 OK\"\n",
      "HTTP Request: GET https://api.riksbank.se/monetary_policy_data/v1/forecasts?series=SEACOMNAYCA&policy_round_name=2022:2 \"HTTP/1.1 200 OK\"\n"
     ]
    },
    {
     "name": "stdout",
     "output_type": "stream",
     "text": [
      "\n",
      "\n",
      "get_hourly_labour_cost_data\n",
      "\n",
      "\n",
      "get_hourly_wage_na_data\n"
     ]
    },
    {
     "name": "stderr",
     "output_type": "stream",
     "text": [
      "HTTP Request: GET https://api.riksbank.se/monetary_policy_data/v1/forecasts?series=SEAWAGNAYCA&policy_round_name=2022:2 \"HTTP/1.1 200 OK\"\n",
      "HTTP Request: GET https://api.riksbank.se/monetary_policy_data/v1/forecasts?series=SEAWAGKLYNA&policy_round_name=2022:2 \"HTTP/1.1 200 OK\"\n"
     ]
    },
    {
     "name": "stdout",
     "output_type": "stream",
     "text": [
      "\n",
      "\n",
      "get_hourly_wage_nmo_data\n"
     ]
    },
    {
     "name": "stderr",
     "output_type": "stream",
     "text": [
      "HTTP Request: GET https://api.riksbank.se/monetary_policy_data/v1/forecasts?series=SEPOPYRCA&policy_round_name=2022:2 \"HTTP/1.1 404 Resource not found\"\n",
      "Got 404 at https://api.riksbank.se/monetary_policy_data/v1/forecasts?series=SEPOPYRCA&policy_round_name=2022:2, returning empty.\n"
     ]
    },
    {
     "name": "stdout",
     "output_type": "stream",
     "text": [
      "\n",
      "\n",
      "get_population_data\n",
      "\n",
      "\n",
      "get_employed_persons_data\n"
     ]
    },
    {
     "name": "stderr",
     "output_type": "stream",
     "text": [
      "HTTP Request: GET https://api.riksbank.se/monetary_policy_data/v1/forecasts?series=SEQLABEPASA&policy_round_name=2022:2 \"HTTP/1.1 200 OK\"\n"
     ]
    },
    {
     "name": "stdout",
     "output_type": "stream",
     "text": [
      "\n",
      "\n",
      "get_labour_force_data\n"
     ]
    },
    {
     "name": "stderr",
     "output_type": "stream",
     "text": [
      "HTTP Request: GET https://api.riksbank.se/monetary_policy_data/v1/forecasts?series=SEQLABLFASA&policy_round_name=2022:2 \"HTTP/1.1 200 OK\"\n"
     ]
    },
    {
     "name": "stdout",
     "output_type": "stream",
     "text": [
      "\n",
      "\n",
      "get_gdp_gap_data\n"
     ]
    },
    {
     "name": "stderr",
     "output_type": "stream",
     "text": [
      "HTTP Request: GET https://api.riksbank.se/monetary_policy_data/v1/forecasts?series=SEQGDPGAPYSA&policy_round_name=2022:2 \"HTTP/1.1 200 OK\"\n"
     ]
    },
    {
     "name": "stdout",
     "output_type": "stream",
     "text": [
      "\n",
      "\n",
      "get_policy_rate_data\n"
     ]
    },
    {
     "name": "stderr",
     "output_type": "stream",
     "text": [
      "HTTP Request: GET https://api.riksbank.se/monetary_policy_data/v1/forecasts?series=SEQRATENAYNA&policy_round_name=2022:2 \"HTTP/1.1 200 OK\"\n",
      "HTTP Request: GET https://api.riksbank.se/monetary_policy_data/v1/forecasts?series=SEAPBSNAYNA&policy_round_name=2022:2 \"HTTP/1.1 200 OK\"\n"
     ]
    },
    {
     "name": "stdout",
     "output_type": "stream",
     "text": [
      "\n",
      "\n",
      "get_general_government_net_lending_data\n",
      "\n",
      "\n",
      "get_gdp_level_saca_data\n"
     ]
    },
    {
     "name": "stderr",
     "output_type": "stream",
     "text": [
      "HTTP Request: GET https://api.riksbank.se/monetary_policy_data/v1/forecasts?series=SEQGDPNAASA&policy_round_name=2022:2 \"HTTP/1.1 200 OK\"\n"
     ]
    },
    {
     "name": "stdout",
     "output_type": "stream",
     "text": [
      "\n",
      "\n",
      "get_gdp_level_ca_data\n"
     ]
    },
    {
     "name": "stderr",
     "output_type": "stream",
     "text": [
      "HTTP Request: GET https://api.riksbank.se/monetary_policy_data/v1/forecasts?series=SEQGDPNAACA&policy_round_name=2022:2 \"HTTP/1.1 200 OK\"\n"
     ]
    },
    {
     "name": "stdout",
     "output_type": "stream",
     "text": [
      "\n",
      "\n",
      "get_gdp_level_na_data\n"
     ]
    },
    {
     "name": "stderr",
     "output_type": "stream",
     "text": [
      "HTTP Request: GET https://api.riksbank.se/monetary_policy_data/v1/forecasts?series=SEQGDPNAANA&policy_round_name=2022:2 \"HTTP/1.1 200 OK\"\n"
     ]
    },
    {
     "name": "stdout",
     "output_type": "stream",
     "text": [
      "\n",
      "\n",
      "get_gdp_yoy_sa_data\n"
     ]
    },
    {
     "name": "stderr",
     "output_type": "stream",
     "text": [
      "HTTP Request: GET https://api.riksbank.se/monetary_policy_data/v1/forecasts?series=SEQGDPNAYSA&policy_round_name=2022:2 \"HTTP/1.1 200 OK\"\n"
     ]
    },
    {
     "name": "stdout",
     "output_type": "stream",
     "text": [
      "\n",
      "\n",
      "get_gdp_yoy_na_data\n"
     ]
    },
    {
     "name": "stderr",
     "output_type": "stream",
     "text": [
      "HTTP Request: GET https://api.riksbank.se/monetary_policy_data/v1/forecasts?series=SEQGDPNAYNA&policy_round_name=2022:2 \"HTTP/1.1 200 OK\"\n"
     ]
    },
    {
     "name": "stdout",
     "output_type": "stream",
     "text": [
      "\n",
      "\n",
      "get_cpi_index_data\n"
     ]
    },
    {
     "name": "stderr",
     "output_type": "stream",
     "text": [
      "HTTP Request: GET https://api.riksbank.se/monetary_policy_data/v1/forecasts?series=SEMCPINAANA&policy_round_name=2022:2 \"HTTP/1.1 200 OK\"\n"
     ]
    },
    {
     "name": "stdout",
     "output_type": "stream",
     "text": [
      "\n",
      "\n",
      "get_cpi_yoy_data\n"
     ]
    },
    {
     "name": "stderr",
     "output_type": "stream",
     "text": [
      "HTTP Request: GET https://api.riksbank.se/monetary_policy_data/v1/forecasts?series=SEMCPINAYNA&policy_round_name=2022:2 \"HTTP/1.1 200 OK\"\n"
     ]
    },
    {
     "name": "stdout",
     "output_type": "stream",
     "text": [
      "\n",
      "\n",
      "get_cpif_yoy_data\n"
     ]
    },
    {
     "name": "stderr",
     "output_type": "stream",
     "text": [
      "HTTP Request: GET https://api.riksbank.se/monetary_policy_data/v1/forecasts?series=SEMCPIFNAYNA&policy_round_name=2022:2 \"HTTP/1.1 200 OK\"\n"
     ]
    },
    {
     "name": "stdout",
     "output_type": "stream",
     "text": [
      "\n",
      "\n",
      "get_cpif_ex_energy_index_data\n"
     ]
    },
    {
     "name": "stderr",
     "output_type": "stream",
     "text": [
      "HTTP Request: GET https://api.riksbank.se/monetary_policy_data/v1/forecasts?series=SEMCPIFFEXANA&policy_round_name=2022:2 \"HTTP/1.1 200 OK\"\n"
     ]
    },
    {
     "name": "stdout",
     "output_type": "stream",
     "text": [
      "\n",
      "\n",
      "get_nominal_exchange_rate_kix_index_data\n"
     ]
    },
    {
     "name": "stderr",
     "output_type": "stream",
     "text": [
      "HTTP Request: GET https://api.riksbank.se/monetary_policy_data/v1/forecasts?series=SEQKIXNAANA&policy_round_name=2022:2 \"HTTP/1.1 200 OK\"\n"
     ]
    },
    {
     "name": "stdout",
     "output_type": "stream",
     "text": [
      "\n",
      "\n",
      "get_nominal_exchange_rate_kix_data\n"
     ]
    },
    {
     "name": "stderr",
     "output_type": "stream",
     "text": [
      "HTTP Request: GET https://api.riksbank.se/monetary_policy_data/v1/forecasts?series=SEQKIXNAANA&policy_round_name=2022:2 \"HTTP/1.1 200 OK\"\n"
     ]
    },
    {
     "name": "stdout",
     "output_type": "stream",
     "text": [
      "\n",
      "\n",
      "get_population_level_data\n"
     ]
    },
    {
     "name": "stderr",
     "output_type": "stream",
     "text": [
      "HTTP Request: GET https://api.riksbank.se/monetary_policy_data/v1/forecasts?series=SEQPOPNAANA&policy_round_name=2022:2 \"HTTP/1.1 200 OK\"\n"
     ]
    },
    {
     "name": "stdout",
     "output_type": "stream",
     "text": [
      "\n"
     ]
    }
   ],
   "source": [
    "for f in mpt.___all__[3:]:\n",
    "    print(\"\")\n",
    "    print(f)\n",
    "    try:\n",
    "        await mpt.__dict__[f](policy_round=\"2022:2\")\n",
    "    except Exception as e:\n",
    "        print(f\"Error in {f}: {e}\")\n",
    "    time.sleep(1)\n",
    "    print(\"\")"
   ]
  },
  {
   "cell_type": "markdown",
   "metadata": {},
   "source": []
  }
 ],
 "metadata": {
  "kernelspec": {
   "display_name": ".venv",
   "language": "python",
   "name": "python3"
  },
  "language_info": {
   "codemirror_mode": {
    "name": "ipython",
    "version": 3
   },
   "file_extension": ".py",
   "mimetype": "text/x-python",
   "name": "python",
   "nbconvert_exporter": "python",
   "pygments_lexer": "ipython3",
   "version": "3.13.1"
  }
 },
 "nbformat": 4,
 "nbformat_minor": 2
}
