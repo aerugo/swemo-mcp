{
 "cells": [
  {
   "cell_type": "code",
   "execution_count": 1,
   "metadata": {},
   "outputs": [],
   "source": [
    "import src.riksbank_mcp.tools.monetary_policy_tools as mpt\n",
    "import time"
   ]
  },
  {
   "cell_type": "code",
   "execution_count": 2,
   "metadata": {},
   "outputs": [
    {
     "name": "stdout",
     "output_type": "stream",
     "text": [
      "\n",
      "get_gdp_forecast_data\n"
     ]
    },
    {
     "name": "stderr",
     "output_type": "stream",
     "text": [
      "HTTP Request: GET https://api.riksbank.se/monetary_policy_data/v1/forecasts?series=SEQGDPNAYCA&policy_round_name=2022:2 \"HTTP/1.1 200 OK\"\n"
     ]
    },
    {
     "name": "stdout",
     "output_type": "stream",
     "text": [
      "\n",
      "\n",
      "get_unemployment_forecast_data\n"
     ]
    },
    {
     "name": "stderr",
     "output_type": "stream",
     "text": [
      "HTTP Request: GET https://api.riksbank.se/monetary_policy_data/v1/forecasts?series=SEQLABUEASA&policy_round_name=2022:2 \"HTTP/1.1 200 OK\"\n"
     ]
    },
    {
     "name": "stdout",
     "output_type": "stream",
     "text": [
      "\n",
      "\n",
      "get_cpi_forecast_data\n"
     ]
    },
    {
     "name": "stderr",
     "output_type": "stream",
     "text": [
      "HTTP Request: GET https://api.riksbank.se/monetary_policy_data/v1/forecasts?series=SEMCPINAYNA&policy_round_name=2022:2 \"HTTP/1.1 200 OK\"\n"
     ]
    },
    {
     "name": "stdout",
     "output_type": "stream",
     "text": [
      "\n",
      "\n",
      "get_cpif_forecast_data\n"
     ]
    },
    {
     "name": "stderr",
     "output_type": "stream",
     "text": [
      "HTTP Request: GET https://api.riksbank.se/monetary_policy_data/v1/forecasts?series=SEMCPIFNAYNA&policy_round_name=2022:2 \"HTTP/1.1 200 OK\"\n"
     ]
    },
    {
     "name": "stdout",
     "output_type": "stream",
     "text": [
      "\n",
      "\n",
      "get_cpif_ex_energy_forecast_data\n"
     ]
    },
    {
     "name": "stderr",
     "output_type": "stream",
     "text": [
      "HTTP Request: GET https://api.riksbank.se/monetary_policy_data/v1/forecasts?series=SEMCPIFFEXYNA&policy_round_name=2022:2 \"HTTP/1.1 200 OK\"\n"
     ]
    },
    {
     "name": "stdout",
     "output_type": "stream",
     "text": [
      "\n",
      "\n",
      "get_hourly_labour_cost_forecast_data\n"
     ]
    },
    {
     "name": "stderr",
     "output_type": "stream",
     "text": [
      "HTTP Request: GET https://api.riksbank.se/monetary_policy_data/v1/forecasts?series=SEACOMNAYCA&policy_round_name=2022:2 \"HTTP/1.1 200 OK\"\n"
     ]
    },
    {
     "name": "stdout",
     "output_type": "stream",
     "text": [
      "\n",
      "\n",
      "get_hourly_wage_na_forecast_data\n"
     ]
    },
    {
     "name": "stderr",
     "output_type": "stream",
     "text": [
      "HTTP Request: GET https://api.riksbank.se/monetary_policy_data/v1/forecasts?series=SEAWAGNAYCA&policy_round_name=2022:2 \"HTTP/1.1 200 OK\"\n"
     ]
    },
    {
     "name": "stdout",
     "output_type": "stream",
     "text": [
      "\n",
      "\n",
      "get_hourly_wage_nmo_forecast_data\n"
     ]
    },
    {
     "name": "stderr",
     "output_type": "stream",
     "text": [
      "HTTP Request: GET https://api.riksbank.se/monetary_policy_data/v1/forecasts?series=SEAWAGKLYNA&policy_round_name=2022:2 \"HTTP/1.1 200 OK\"\n"
     ]
    },
    {
     "name": "stdout",
     "output_type": "stream",
     "text": [
      "\n",
      "\n",
      "get_population_forecast_data\n"
     ]
    },
    {
     "name": "stderr",
     "output_type": "stream",
     "text": [
      "HTTP Request: GET https://api.riksbank.se/monetary_policy_data/v1/forecasts?series=SEPOPYRCA&policy_round_name=2022:2 \"HTTP/1.1 404 Resource not found\"\n",
      "Got 404 at https://api.riksbank.se/monetary_policy_data/v1/forecasts?series=SEPOPYRCA&policy_round_name=2022:2, returning empty.\n"
     ]
    },
    {
     "name": "stdout",
     "output_type": "stream",
     "text": [
      "\n",
      "\n",
      "get_employed_persons_forecast_data\n"
     ]
    },
    {
     "name": "stderr",
     "output_type": "stream",
     "text": [
      "HTTP Request: GET https://api.riksbank.se/monetary_policy_data/v1/forecasts?series=SEQLABEPASA&policy_round_name=2022:2 \"HTTP/1.1 200 OK\"\n"
     ]
    },
    {
     "name": "stdout",
     "output_type": "stream",
     "text": [
      "\n",
      "\n",
      "get_labour_force_forecast_data\n"
     ]
    },
    {
     "name": "stderr",
     "output_type": "stream",
     "text": [
      "HTTP Request: GET https://api.riksbank.se/monetary_policy_data/v1/forecasts?series=SEQLABLFASA&policy_round_name=2022:2 \"HTTP/1.1 200 OK\"\n"
     ]
    },
    {
     "name": "stdout",
     "output_type": "stream",
     "text": [
      "\n",
      "\n",
      "get_gdp_gap_forecast_data\n"
     ]
    },
    {
     "name": "stderr",
     "output_type": "stream",
     "text": [
      "HTTP Request: GET https://api.riksbank.se/monetary_policy_data/v1/forecasts?series=SEQGDPGAPYSA&policy_round_name=2022:2 \"HTTP/1.1 200 OK\"\n"
     ]
    },
    {
     "name": "stdout",
     "output_type": "stream",
     "text": [
      "\n",
      "\n",
      "get_policy_rate_forecast_data\n"
     ]
    },
    {
     "name": "stderr",
     "output_type": "stream",
     "text": [
      "HTTP Request: GET https://api.riksbank.se/monetary_policy_data/v1/forecasts?series=SEQRATENAYNA&policy_round_name=2022:2 \"HTTP/1.1 200 OK\"\n"
     ]
    },
    {
     "name": "stdout",
     "output_type": "stream",
     "text": [
      "\n",
      "\n",
      "get_general_government_net_lending_forecast_data\n"
     ]
    },
    {
     "name": "stderr",
     "output_type": "stream",
     "text": [
      "HTTP Request: GET https://api.riksbank.se/monetary_policy_data/v1/forecasts?series=SEAPBSNAYNA&policy_round_name=2022:2 \"HTTP/1.1 200 OK\"\n"
     ]
    },
    {
     "name": "stdout",
     "output_type": "stream",
     "text": [
      "\n",
      "\n",
      "get_gdp_level_saca_forecast_data\n"
     ]
    },
    {
     "name": "stderr",
     "output_type": "stream",
     "text": [
      "HTTP Request: GET https://api.riksbank.se/monetary_policy_data/v1/forecasts?series=SEQGDPNAASA&policy_round_name=2022:2 \"HTTP/1.1 200 OK\"\n"
     ]
    },
    {
     "name": "stdout",
     "output_type": "stream",
     "text": [
      "\n",
      "\n",
      "get_gdp_level_ca_forecast_data\n"
     ]
    },
    {
     "name": "stderr",
     "output_type": "stream",
     "text": [
      "HTTP Request: GET https://api.riksbank.se/monetary_policy_data/v1/forecasts?series=SEQGDPNAACA&policy_round_name=2022:2 \"HTTP/1.1 200 OK\"\n"
     ]
    },
    {
     "name": "stdout",
     "output_type": "stream",
     "text": [
      "\n",
      "\n",
      "get_gdp_level_na_forecast_data\n"
     ]
    },
    {
     "name": "stderr",
     "output_type": "stream",
     "text": [
      "HTTP Request: GET https://api.riksbank.se/monetary_policy_data/v1/forecasts?series=SEQGDPNAANA&policy_round_name=2022:2 \"HTTP/1.1 200 OK\"\n"
     ]
    },
    {
     "name": "stdout",
     "output_type": "stream",
     "text": [
      "\n",
      "\n",
      "get_gdp_yoy_sa_forecast_data\n"
     ]
    },
    {
     "name": "stderr",
     "output_type": "stream",
     "text": [
      "HTTP Request: GET https://api.riksbank.se/monetary_policy_data/v1/forecasts?series=SEQGDPNAYSA&policy_round_name=2022:2 \"HTTP/1.1 200 OK\"\n"
     ]
    },
    {
     "name": "stdout",
     "output_type": "stream",
     "text": [
      "\n",
      "\n",
      "get_gdp_yoy_na_forecast_data\n"
     ]
    },
    {
     "name": "stderr",
     "output_type": "stream",
     "text": [
      "HTTP Request: GET https://api.riksbank.se/monetary_policy_data/v1/forecasts?series=SEQGDPNAYNA&policy_round_name=2022:2 \"HTTP/1.1 200 OK\"\n"
     ]
    },
    {
     "name": "stdout",
     "output_type": "stream",
     "text": [
      "\n",
      "\n",
      "get_cpi_index_forecast_data\n"
     ]
    },
    {
     "name": "stderr",
     "output_type": "stream",
     "text": [
      "HTTP Request: GET https://api.riksbank.se/monetary_policy_data/v1/forecasts?series=SEMCPINAANA&policy_round_name=2022:2 \"HTTP/1.1 200 OK\"\n"
     ]
    },
    {
     "name": "stdout",
     "output_type": "stream",
     "text": [
      "\n",
      "\n",
      "get_cpi_yoy_forecast_data\n"
     ]
    },
    {
     "name": "stderr",
     "output_type": "stream",
     "text": [
      "HTTP Request: GET https://api.riksbank.se/monetary_policy_data/v1/forecasts?series=SEMCPINAYNA&policy_round_name=2022:2 \"HTTP/1.1 200 OK\"\n"
     ]
    },
    {
     "name": "stdout",
     "output_type": "stream",
     "text": [
      "\n",
      "\n",
      "get_cpif_yoy_forecast_data\n"
     ]
    },
    {
     "name": "stderr",
     "output_type": "stream",
     "text": [
      "HTTP Request: GET https://api.riksbank.se/monetary_policy_data/v1/forecasts?series=SEMCPIFNAYNA&policy_round_name=2022:2 \"HTTP/1.1 200 OK\"\n"
     ]
    },
    {
     "name": "stdout",
     "output_type": "stream",
     "text": [
      "\n",
      "\n",
      "get_cpif_ex_energy_index_forecast_data\n"
     ]
    },
    {
     "name": "stderr",
     "output_type": "stream",
     "text": [
      "HTTP Request: GET https://api.riksbank.se/monetary_policy_data/v1/forecasts?series=SEMCPIFFEXANA&policy_round_name=2022:2 \"HTTP/1.1 200 OK\"\n"
     ]
    },
    {
     "name": "stdout",
     "output_type": "stream",
     "text": [
      "\n",
      "\n",
      "get_nominal_exchange_rate_kix_index_forecast_data\n"
     ]
    },
    {
     "name": "stderr",
     "output_type": "stream",
     "text": [
      "HTTP Request: GET https://api.riksbank.se/monetary_policy_data/v1/forecasts?series=SEQKIXNAANA&policy_round_name=2022:2 \"HTTP/1.1 200 OK\"\n"
     ]
    },
    {
     "name": "stdout",
     "output_type": "stream",
     "text": [
      "\n",
      "\n",
      "get_population_level_forecast_data\n"
     ]
    },
    {
     "name": "stderr",
     "output_type": "stream",
     "text": [
      "HTTP Request: GET https://api.riksbank.se/monetary_policy_data/v1/forecasts?series=SEQPOPNAANA&policy_round_name=2022:2 \"HTTP/1.1 200 OK\"\n"
     ]
    },
    {
     "name": "stdout",
     "output_type": "stream",
     "text": [
      "\n"
     ]
    }
   ],
   "source": [
    "for f in mpt.___all__[3:]:\n",
    "    print(\"\")\n",
    "    print(f)\n",
    "    try:\n",
    "        await mpt.__dict__[f](policy_round=\"2022:2\")\n",
    "    except Exception as e:\n",
    "        print(f\"Error in {f}: {e}\")\n",
    "    time.sleep(1)\n",
    "    print(\"\")"
   ]
  },
  {
   "cell_type": "markdown",
   "metadata": {},
   "source": []
  }
 ],
 "metadata": {
  "kernelspec": {
   "display_name": ".venv",
   "language": "python",
   "name": "python3"
  },
  "language_info": {
   "codemirror_mode": {
    "name": "ipython",
    "version": 3
   },
   "file_extension": ".py",
   "mimetype": "text/x-python",
   "name": "python",
   "nbconvert_exporter": "python",
   "pygments_lexer": "ipython3",
   "version": "3.13.1"
  }
 },
 "nbformat": 4,
 "nbformat_minor": 2
}
